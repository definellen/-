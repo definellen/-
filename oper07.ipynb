{
 "cells": [
  {
   "cell_type": "code",
   "execution_count": null,
   "metadata": {},
   "outputs": [],
   "source": [
    "#멤버 연산자: in, not in\n",
    "#in: 컬렉션(자료구조)에 포함되어 있으면 True, 포함되어 있지 않으면 False를 리턴\n",
    "#not in: 컬렉션(자료구조)에 포함되어 있지 않으면 True를 리턴"
   ]
  },
  {
   "cell_type": "code",
   "execution_count": 3,
   "metadata": {},
   "outputs": [
    {
     "name": "stdout",
     "output_type": "stream",
     "text": [
      "True\n",
      "False\n"
     ]
    }
   ],
   "source": [
    "apple=[10,20,30,40]\n",
    "r1=30 in apple\n",
    "r2=60 in apple\n",
    "print(r1)   #T\n",
    "print(r2)   #F"
   ]
  },
  {
   "cell_type": "code",
   "execution_count": 4,
   "metadata": {},
   "outputs": [
    {
     "name": "stdout",
     "output_type": "stream",
     "text": [
      "True\n",
      "False\n"
     ]
    }
   ],
   "source": [
    "str='abcde'\n",
    "r3='c' in str\n",
    "r4='k' in str\n",
    "print(r3)     #T\n",
    "print(r4)     #F"
   ]
  }
 ],
 "metadata": {
  "kernelspec": {
   "display_name": "Python 3",
   "language": "python",
   "name": "python3"
  },
  "language_info": {
   "codemirror_mode": {
    "name": "ipython",
    "version": 3
   },
   "file_extension": ".py",
   "mimetype": "text/x-python",
   "name": "python",
   "nbconvert_exporter": "python",
   "pygments_lexer": "ipython3",
   "version": "3.7.4"
  }
 },
 "nbformat": 4,
 "nbformat_minor": 2
}
