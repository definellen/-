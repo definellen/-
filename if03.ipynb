{
 "cells": [
  {
   "cell_type": "markdown",
   "metadata": {},
   "source": [
    "if ~ else문"
   ]
  },
  {
   "cell_type": "code",
   "execution_count": 5,
   "metadata": {},
   "outputs": [
    {
     "name": "stdout",
     "output_type": "stream",
     "text": [
      "정수를 입력하세요3\n",
      "3 은 홀수입니다\n"
     ]
    }
   ],
   "source": [
    "#키보드로 입력한 정수가 홀수인지 짝수인지 판별하는 프로그램을 작성하세요\n",
    "\n",
    "n=int(input('정수를 입력하세요'))\n",
    "\n",
    "if n%2==0:\n",
    "    print(n, '은 짝수입니다')\n",
    "else:\n",
    "    print(n, '은 홀수입니다')"
   ]
  },
  {
   "cell_type": "code",
   "execution_count": 6,
   "metadata": {},
   "outputs": [
    {
     "name": "stdout",
     "output_type": "stream",
     "text": [
      "정수를 입력하세요4\n",
      "4 은 짝수입니다\n"
     ]
    }
   ],
   "source": [
    "#키보드로 입력한 정수가 홀수인지 짝수인지 판별하는 프로그램을 작성하세요\n",
    "\n",
    "n=int(input('정수를 입력하세요'))\n",
    "\n",
    "if n%2==1:\n",
    "    print(n, '은 홀수입니다')\n",
    "else:\n",
    "    print(n, '은 짝수입니다')"
   ]
  }
 ],
 "metadata": {
  "kernelspec": {
   "display_name": "Python 3",
   "language": "python",
   "name": "python3"
  },
  "language_info": {
   "codemirror_mode": {
    "name": "ipython",
    "version": 3
   },
   "file_extension": ".py",
   "mimetype": "text/x-python",
   "name": "python",
   "nbconvert_exporter": "python",
   "pygments_lexer": "ipython3",
   "version": "3.7.4"
  }
 },
 "nbformat": 4,
 "nbformat_minor": 2
}
