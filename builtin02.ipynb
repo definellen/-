{
 "cells": [
  {
   "cell_type": "markdown",
   "metadata": {},
   "source": [
    "내장함수: format()\n",
    "format(데이터, 형식)"
   ]
  },
  {
   "cell_type": "code",
   "execution_count": 1,
   "metadata": {},
   "outputs": [
    {
     "name": "stdout",
     "output_type": "stream",
     "text": [
      "4\n",
      "         4\n"
     ]
    }
   ],
   "source": [
    "print(4)\n",
    "print(format(4,'10d'))        #d; decimal number / 10은 10자리 전체 자리수"
   ]
  },
  {
   "cell_type": "code",
   "execution_count": 15,
   "metadata": {},
   "outputs": [
    {
     "name": "stdout",
     "output_type": "stream",
     "text": [
      "4.3\n",
      "     4.300\n",
      "4.346\n",
      "4.345\n",
      "Hi\n",
      "Hi\n"
     ]
    }
   ],
   "source": [
    "print(4.3)\n",
    "print(format(4.3,'10.3f'))     #총 10자리 숫자, 소수점 3자리까지\n",
    "print(format(4.34567,'.3f'))   #소수점 3째자리까지, 4째자리에서 반올림. f는 실수를 뜻함\n",
    "print(format(4.34527,'.3f'))\n",
    "print(format('Hi','s'))\n",
    "print(format('Hi'))"
   ]
  },
  {
   "cell_type": "code",
   "execution_count": 10,
   "metadata": {},
   "outputs": [
    {
     "name": "stdout",
     "output_type": "stream",
     "text": [
      "python is fun\n",
      "fun is python\n",
      "python is fun\n"
     ]
    }
   ],
   "source": [
    "#{숫자}와 format()을 이용하 데이터 매핑\n",
    "print('{0} is {1}'.format('python','fun'))\n",
    "print('{1} is {0}'.format('python','fun'))\n",
    "print('{} is {}'.format('python','fun'))       #숫자를 생락하면 순서대로 할당됨"
   ]
  }
 ],
 "metadata": {
  "kernelspec": {
   "display_name": "Python 3",
   "language": "python",
   "name": "python3"
  },
  "language_info": {
   "codemirror_mode": {
    "name": "ipython",
    "version": 3
   },
   "file_extension": ".py",
   "mimetype": "text/x-python",
   "name": "python",
   "nbconvert_exporter": "python",
   "pygments_lexer": "ipython3",
   "version": "3.7.4"
  }
 },
 "nbformat": 4,
 "nbformat_minor": 2
}
