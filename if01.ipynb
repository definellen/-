{
 "cells": [
  {
   "cell_type": "markdown",
   "metadata": {},
   "source": [
    "if문\n",
    "if 조건식:\n",
    "    조건식이 참일 경우에 실행될 문장"
   ]
  },
  {
   "cell_type": "code",
   "execution_count": 3,
   "metadata": {},
   "outputs": [
    {
     "name": "stdout",
     "output_type": "stream",
     "text": [
      "정수를 입력하세요?1\n",
      "1 은(는) 양수\n"
     ]
    }
   ],
   "source": [
    "#키보드로 정수를 입력 받아서 양수인지 음수인지 판별하는 프로그램 작성\n",
    "\n",
    "n=int(input('정수를 입력하세요?'))\n",
    "if n>=0:\n",
    "    print(n,'은(는) 양수')                #indentation is reeeeeeeally important\n",
    "if n<0:\n",
    "    print(n,'은(는) 음수')"
   ]
  },
  {
   "cell_type": "code",
   "execution_count": 6,
   "metadata": {},
   "outputs": [
    {
     "name": "stdout",
     "output_type": "stream",
     "text": [
      "항상 실행\n",
      "항상 실행2\n"
     ]
    }
   ],
   "source": [
    "if True:\n",
    "    print('항상 실행')\n",
    "    print('항상 실행2')\n",
    "if False:\n",
    "    print('실행 안 됨')\n",
    "    \n",
    "if 3>5:\n",
    "    print('실행 안 됨')"
   ]
  }
 ],
 "metadata": {
  "kernelspec": {
   "display_name": "Python 3",
   "language": "python",
   "name": "python3"
  },
  "language_info": {
   "codemirror_mode": {
    "name": "ipython",
    "version": 3
   },
   "file_extension": ".py",
   "mimetype": "text/x-python",
   "name": "python",
   "nbconvert_exporter": "python",
   "pygments_lexer": "ipython3",
   "version": "3.7.4"
  }
 },
 "nbformat": 4,
 "nbformat_minor": 2
}
