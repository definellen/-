{
 "cells": [
  {
   "cell_type": "markdown",
   "metadata": {},
   "source": [
    "#키보드로 입력한 정수가 어느 학점에 해당되는지 판별하는 프로그램 작성\n",
    "\n",
    "90점 이상 A\n",
    "80 이상 B\n",
    "70 이상 C\n",
    "60 이상 D\n",
    "60 미만 F"
   ]
  },
  {
   "cell_type": "code",
   "execution_count": 1,
   "metadata": {},
   "outputs": [
    {
     "name": "stdout",
     "output_type": "stream",
     "text": [
      "enter your score in the range of 0 to 10077\n",
      "C\n"
     ]
    }
   ],
   "source": [
    "s=int(input('enter your score in the range of 0 to 100'))\n",
    "if s>=90:\n",
    "    print('A')\n",
    "elif s>=80:\n",
    "    print('B')\n",
    "elif s>=70:\n",
    "    print('C')\n",
    "elif s>=60:\n",
    "    print('D')\n",
    "else:\n",
    "    print('F')"
   ]
  }
 ],
 "metadata": {
  "kernelspec": {
   "display_name": "Python 3",
   "language": "python",
   "name": "python3"
  },
  "language_info": {
   "codemirror_mode": {
    "name": "ipython",
    "version": 3
   },
   "file_extension": ".py",
   "mimetype": "text/x-python",
   "name": "python",
   "nbconvert_exporter": "python",
   "pygments_lexer": "ipython3",
   "version": "3.7.4"
  }
 },
 "nbformat": 4,
 "nbformat_minor": 2
}
