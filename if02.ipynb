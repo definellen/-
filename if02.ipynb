{
 "cells": [
  {
   "cell_type": "markdown",
   "metadata": {},
   "source": [
    "if ~ else문\n",
    "if 조건식:\n",
    "    조건식이 참인 경우에 실행될 문장\n",
    "else:\n",
    "    조건식이 거짓인 경우에 실행될 문장"
   ]
  },
  {
   "cell_type": "code",
   "execution_count": 1,
   "metadata": {},
   "outputs": [
    {
     "name": "stdout",
     "output_type": "stream",
     "text": [
      "정수를 입력하세요3\n",
      "3 은 양수\n"
     ]
    }
   ],
   "source": [
    "#키보드로 정수를 입력 받아서 양수, 음수인지 판별하는 프로그램 작성\n",
    "\n",
    "n = int(input('정수를 입력하세요'))\n",
    "\n",
    "if n>=0:\n",
    "    print(n,'은 양수')\n",
    "else:\n",
    "    print(n,'은 음수')"
   ]
  }
 ],
 "metadata": {
  "kernelspec": {
   "display_name": "Python 3",
   "language": "python",
   "name": "python3"
  },
  "language_info": {
   "codemirror_mode": {
    "name": "ipython",
    "version": 3
   },
   "file_extension": ".py",
   "mimetype": "text/x-python",
   "name": "python",
   "nbconvert_exporter": "python",
   "pygments_lexer": "ipython3",
   "version": "3.7.4"
  }
 },
 "nbformat": 4,
 "nbformat_minor": 2
}
