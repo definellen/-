{
 "cells": [
  {
   "cell_type": "markdown",
   "metadata": {},
   "source": [
    "if ~ else문"
   ]
  },
  {
   "cell_type": "code",
   "execution_count": 2,
   "metadata": {},
   "outputs": [
    {
     "name": "stdout",
     "output_type": "stream",
     "text": [
      "정수1을 입력하세요3\n",
      "정수2를 입력하세요6\n",
      "max= 6\n",
      "min= 3\n"
     ]
    }
   ],
   "source": [
    "#키보드로 입력한 정수 2개 중에서 최대값과 최소값을 구하는 프로그램을 작성하세요\n",
    "\n",
    "n1=int(input('정수1을 입력하세요'))\n",
    "n2=int(input('정수2를 입력하세요'))\n",
    "\n",
    "if n1 >= n2:\n",
    "    max = n1\n",
    "    min = n2\n",
    "else:\n",
    "    max = n2\n",
    "    min = n1\n",
    "print('max=', max)\n",
    "print('min=', min)"
   ]
  }
 ],
 "metadata": {
  "kernelspec": {
   "display_name": "Python 3",
   "language": "python",
   "name": "python3"
  },
  "language_info": {
   "codemirror_mode": {
    "name": "ipython",
    "version": 3
   },
   "file_extension": ".py",
   "mimetype": "text/x-python",
   "name": "python",
   "nbconvert_exporter": "python",
   "pygments_lexer": "ipython3",
   "version": "3.7.4"
  }
 },
 "nbformat": 4,
 "nbformat_minor": 2
}
