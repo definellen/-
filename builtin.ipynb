{
 "cells": [
  {
   "cell_type": "markdown",
   "metadata": {},
   "source": [
    "https://docs.python.org/3.5/library/functions.html 여기서 파이썬 내장함수(built in)를 볼 수 있음"
   ]
  },
  {
   "cell_type": "code",
   "execution_count": 3,
   "metadata": {},
   "outputs": [
    {
     "name": "stdout",
     "output_type": "stream",
     "text": [
      "30\n",
      "50\n",
      "w\n"
     ]
    }
   ],
   "source": [
    "#최댓값\n",
    "\n",
    "print(max(10,20,30))\n",
    "print(max([10,20,30,40,50]))\n",
    "print(max('Hello world'))      #소문자가 더 큰 값으로 인식됨"
   ]
  },
  {
   "cell_type": "code",
   "execution_count": 16,
   "metadata": {},
   "outputs": [
    {
     "name": "stdout",
     "output_type": "stream",
     "text": [
      "1\n",
      "1\n",
      "hello\n"
     ]
    }
   ],
   "source": [
    "#최소값\n",
    "\n",
    "print(min(1,2,3))\n",
    "print(min([1,2,3]))\n",
    "print(min('hello','world'))"
   ]
  },
  {
   "cell_type": "code",
   "execution_count": 22,
   "metadata": {},
   "outputs": [
    {
     "name": "stdout",
     "output_type": "stream",
     "text": [
      "range(0, 10)\n",
      "[0, 1, 2, 3, 4, 5, 6, 7, 8, 9]\n",
      "[1, 2, 3, 4, 5, 6, 7, 8, 9]\n",
      "[1, 3, 5, 7, 9]\n",
      "[10, 9, 8, 7, 6, 5, 4, 3, 2]\n"
     ]
    }
   ],
   "source": [
    "#range(초기값, 최종값, 증감값): 초기값 ~ 최종값-1 까지\n",
    "#range(초기값, 최종값): 초기값 ~ 최종값-1까지\n",
    "#range(최종값): 0 ~ 최종값-1까지\n",
    "\n",
    "print(range(10))\n",
    "print(list(range(10)))\n",
    "print(list(range(1,10)))\n",
    "print(list(range(1,10,2)))    \n",
    "print(list(range(10,1,-1)))"
   ]
  }
 ],
 "metadata": {
  "kernelspec": {
   "display_name": "Python 3",
   "language": "python",
   "name": "python3"
  },
  "language_info": {
   "codemirror_mode": {
    "name": "ipython",
    "version": 3
   },
   "file_extension": ".py",
   "mimetype": "text/x-python",
   "name": "python",
   "nbconvert_exporter": "python",
   "pygments_lexer": "ipython3",
   "version": "3.7.4"
  }
 },
 "nbformat": 4,
 "nbformat_minor": 2
}
